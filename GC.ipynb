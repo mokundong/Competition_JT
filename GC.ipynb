{
 "cells": [
  {
   "cell_type": "code",
   "execution_count": 4,
   "metadata": {},
   "outputs": [
    {
     "name": "stdout",
     "output_type": "stream",
     "text": [
      "                       types |   # objects |   total size\n",
      "============================ | =========== | ============\n",
      "               <class 'float |     4000000 |     91.55 MB\n",
      "                <class 'list |        7601 |     32.12 MB\n",
      "                 <class 'str |        5600 |    397.68 KB\n",
      "                 <class 'int |        1181 |     32.29 KB\n",
      "   <class 'method_descriptor |          12 |    864     B\n",
      "                <class 'dict |           1 |    672     B\n",
      "             <class 'weakref |           2 |    160     B\n",
      "                <class 'code |           1 |    144     B\n",
      "       function (store_info) |           1 |    136     B\n",
      "                <class 'cell |           2 |     96     B\n",
      "  <class 'wrapper_descriptor |           1 |     80     B\n",
      "   <class 'member_descriptor |           1 |     72     B\n",
      "    <class '_ast.Interactive |           1 |     56     B\n",
      "               <class 'tuple |           0 |      8     B\n",
      "         <class '_ast.Module |          -1 |    -56     B\n"
     ]
    }
   ],
   "source": [
    "from pympler import tracker\n",
    "import random\n",
    "tr = tracker.SummaryTracker()\n",
    "a = [[random.random() for i in range(2000)] for i in range(2000)]\n",
    "tr.print_diff()"
   ]
  },
  {
   "cell_type": "code",
   "execution_count": 5,
   "metadata": {},
   "outputs": [
    {
     "data": {
      "text/plain": [
       "0"
      ]
     },
     "execution_count": 5,
     "metadata": {},
     "output_type": "execute_result"
    }
   ],
   "source": [
    "import gc\n",
    "gc.collect()"
   ]
  },
  {
   "cell_type": "code",
   "execution_count": 6,
   "metadata": {},
   "outputs": [
    {
     "data": {
      "text/plain": [
       "16560"
      ]
     },
     "execution_count": 6,
     "metadata": {},
     "output_type": "execute_result"
    }
   ],
   "source": [
    "from sys import getsizeof\n",
    "getsizeof(a)"
   ]
  },
  {
   "cell_type": "code",
   "execution_count": null,
   "metadata": {},
   "outputs": [],
   "source": []
  }
 ],
 "metadata": {
  "kernelspec": {
   "display_name": "Python [Root]",
   "language": "python",
   "name": "Python [Root]"
  },
  "language_info": {
   "codemirror_mode": {
    "name": "ipython",
    "version": 3
   },
   "file_extension": ".py",
   "mimetype": "text/x-python",
   "name": "python",
   "nbconvert_exporter": "python",
   "pygments_lexer": "ipython3",
   "version": "3.5.2"
  }
 },
 "nbformat": 4,
 "nbformat_minor": 2
}
